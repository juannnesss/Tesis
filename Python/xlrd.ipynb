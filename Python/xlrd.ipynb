{
 "cells": [
  {
   "cell_type": "code",
   "execution_count": 14,
   "metadata": {},
   "outputs": [],
   "source": [
    "import xlrd\n",
    "import pylab as pylab\n",
    "import numpy as np\n",
    "from matplotlib.mlab import griddata\n",
    "import matplotlib.pyplot as plt\n",
    "import matplotlib.cm as cm"
   ]
  },
  {
   "cell_type": "code",
   "execution_count": 3,
   "metadata": {},
   "outputs": [
    {
     "name": "stdout",
     "output_type": "stream",
     "text": [
      "[u'Toma4_reducido (root)', u'promedio', u'suma']\n"
     ]
    }
   ],
   "source": [
    "workbook= xlrd.open_workbook('Toma4_reducido.xlsx')\n",
    "sheet_names=workbook.sheet_names()\n",
    "print sheet_names"
   ]
  },
  {
   "cell_type": "code",
   "execution_count": 4,
   "metadata": {},
   "outputs": [],
   "source": [
    "toma_sheet=workbook.sheet_by_name(sheet_names[0])\n",
    "promedio_sheet=workbook.sheet_by_name(sheet_names[1])\n",
    "suma_sheet=workbook.sheet_by_name(sheet_names[2])"
   ]
  },
  {
   "cell_type": "code",
   "execution_count": 19,
   "metadata": {},
   "outputs": [
    {
     "name": "stdout",
     "output_type": "stream",
     "text": [
      "Eje x\n",
      "Eje y\n",
      "Canal B\n"
     ]
    }
   ],
   "source": [
    "x_promedio=promedio_sheet.col_values(0)\n",
    "y_promedio=promedio_sheet.col_values(1)\n",
    "canalB_promedio=promedio_sheet.col_values(7)\n",
    "print x_promedio[0]\n",
    "print y_promedio[0]\n",
    "print canalB_promedio[0]\n",
    "#CLeaning list\n",
    "del x_promedio[0]\n",
    "del y_promedio[0]\n",
    "del canalB_promedio[0]\n"
   ]
  }
 ],
 "metadata": {
  "kernelspec": {
   "display_name": "Python 2",
   "language": "python",
   "name": "python2"
  },
  "language_info": {
   "codemirror_mode": {
    "name": "ipython",
    "version": 2
   },
   "file_extension": ".py",
   "mimetype": "text/x-python",
   "name": "python",
   "nbconvert_exporter": "python",
   "pygments_lexer": "ipython2",
   "version": "2.7.6"
  }
 },
 "nbformat": 4,
 "nbformat_minor": 2
}
