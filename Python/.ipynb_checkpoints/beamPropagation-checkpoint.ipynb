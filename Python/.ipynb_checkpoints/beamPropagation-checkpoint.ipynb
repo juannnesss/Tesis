{
 "cells": [
  {
   "cell_type": "code",
   "execution_count": 48,
   "metadata": {
    "collapsed": false
   },
   "outputs": [],
   "source": [
    "import xlrd\n",
    "import pylab as pylab\n",
    "import numpy as np\n",
    "import matplotlib as mpl\n",
    "from matplotlib.mlab import griddata\n",
    "import matplotlib.pyplot as plt\n",
    "import matplotlib.cm as cm\n",
    "import scipy.interpolate\n",
    "from matplotlib.ticker import MaxNLocator\n",
    "from matplotlib.colors import BoundaryNorm\n",
    "%matplotlib inline \n",
    "mpl.rcParams['image.cmap'] = 'jet'\n",
    "font = {'family' : 'normal',\n",
    "        'weight' : 'bold',\n",
    "        'size'   : 20}\n",
    "\n",
    "mpl.rc('font', **font)\n",
    "\n",
    "\n",
    "def myfloat(float_string):\n",
    "    \"\"\"It takes a float string (\"1,23\" or \"1,234.567.890\") and\n",
    "converts it to floating point number (1.23 or 1.234567890).\n",
    "\"\"\"\n",
    "    float_string = str(float_string)\n",
    "    errormsg = \"ValueError: Input must be decimal or integer string\"\n",
    "    try:\n",
    "        if float_string.count(\".\") == 1 and float_string.count(\",\") == 0:\n",
    "            return float(float_string)\n",
    "        else:\n",
    "            midle_string = list(float_string)\n",
    "            while midle_string.count(\".\") != 0:\n",
    "                midle_string.remove(\".\")\n",
    "            out_string = str.replace(\"\".join(midle_string), \",\", \".\")\n",
    "        return float(out_string)\n",
    "    except ValueError, error:\n",
    "        print \"%s\\n%s\" %(errormsg, error)\n",
    "        return None"
   ]
  },
  {
   "cell_type": "code",
   "execution_count": 72,
   "metadata": {
    "collapsed": false
   },
   "outputs": [],
   "source": [
    "def read(name):\n",
    "    workbook= xlrd.open_workbook('Data/gaussian/'+name+'.xlsx')\n",
    "    sheet_names=workbook.sheet_names()\n",
    "    #print sheet_names\n",
    "    promedio_sheet=workbook.sheet_by_name(sheet_names[0])\n",
    "    timeCol=promedio_sheet.col_values(0)\n",
    "    powerCol=promedio_sheet.col_values(1)\n",
    "    posxCol=promedio_sheet.col_values(2)\n",
    "    posyCol=promedio_sheet.col_values(3)\n",
    "    w1Col=promedio_sheet.col_values(4)\n",
    "    w2Col=promedio_sheet.col_values(5)\n",
    "    w3Col=promedio_sheet.col_values(6)\n",
    "    v1Col=promedio_sheet.col_values(7)\n",
    "    v2Col=promedio_sheet.col_values(8)\n",
    "    v3Col=promedio_sheet.col_values(9)\n",
    "    for i in range(0,22):\n",
    "        del timeCol[0]\n",
    "        del powerCol[0]\n",
    "        del posxCol[0]\n",
    "        del posyCol[0]\n",
    "        del w1Col[0]\n",
    "        del w2Col[0]\n",
    "        del w3Col[0]\n",
    "        del v1Col[0]\n",
    "        del v2Col[0]\n",
    "        del v3Col[0]\n",
    "    return [timeCol,powerCol,posxCol,posyCol,w1Col,w2Col,w3Col,v1Col,v2Col,v3Col]\n",
    "\n",
    "def listas(name):\n",
    "    lis=read(name)\n",
    "    data=[]\n",
    "    for i in lis:\n",
    "        #print j\n",
    "            tem.append(float(str(j).replace(\".\",\"\").replace(\",\",\".\")))\n",
    "        #print tem\n",
    "        data.append(tem)\n",
    "    return lis, data"
   ]
  },
  {
   "cell_type": "code",
   "execution_count": 14,
   "metadata": {
    "collapsed": false
   },
   "outputs": [
    {
     "ename": "TypeError",
     "evalue": "cannot perform reduce with flexible type",
     "output_type": "error",
     "traceback": [
      "\u001b[0;31m---------------------------------------------------------------------------\u001b[0m",
      "\u001b[0;31mTypeError\u001b[0m                                 Traceback (most recent call last)",
      "\u001b[0;32m<ipython-input-14-23658fe997cb>\u001b[0m in \u001b[0;36m<module>\u001b[0;34m()\u001b[0m\n\u001b[1;32m      1\u001b[0m \u001b[0mdata\u001b[0m\u001b[0;34m=\u001b[0m\u001b[0mread\u001b[0m\u001b[0;34m(\u001b[0m\u001b[0;34m'sup.close'\u001b[0m\u001b[0;34m)\u001b[0m\u001b[0;34m\u001b[0m\u001b[0m\n\u001b[0;32m----> 2\u001b[0;31m \u001b[0mw1\u001b[0m\u001b[0;34m,\u001b[0m\u001b[0mw2\u001b[0m\u001b[0;34m,\u001b[0m\u001b[0mw3\u001b[0m\u001b[0;34m,\u001b[0m\u001b[0mv1\u001b[0m\u001b[0;34m,\u001b[0m\u001b[0mv2\u001b[0m\u001b[0;34m,\u001b[0m\u001b[0mv3\u001b[0m\u001b[0;34m=\u001b[0m\u001b[0mnp\u001b[0m\u001b[0;34m.\u001b[0m\u001b[0mmean\u001b[0m\u001b[0;34m(\u001b[0m\u001b[0mdata\u001b[0m\u001b[0;34m[\u001b[0m\u001b[0;36m4\u001b[0m\u001b[0;34m]\u001b[0m\u001b[0;34m)\u001b[0m\u001b[0;34m,\u001b[0m\u001b[0mnp\u001b[0m\u001b[0;34m.\u001b[0m\u001b[0mmean\u001b[0m\u001b[0;34m(\u001b[0m\u001b[0mdata\u001b[0m\u001b[0;34m[\u001b[0m\u001b[0;36m5\u001b[0m\u001b[0;34m]\u001b[0m\u001b[0;34m)\u001b[0m\u001b[0;34m,\u001b[0m\u001b[0mnp\u001b[0m\u001b[0;34m.\u001b[0m\u001b[0mmean\u001b[0m\u001b[0;34m(\u001b[0m\u001b[0mdata\u001b[0m\u001b[0;34m[\u001b[0m\u001b[0;36m6\u001b[0m\u001b[0;34m]\u001b[0m\u001b[0;34m)\u001b[0m\u001b[0;34m,\u001b[0m\u001b[0mnp\u001b[0m\u001b[0;34m.\u001b[0m\u001b[0mmean\u001b[0m\u001b[0;34m(\u001b[0m\u001b[0mdata\u001b[0m\u001b[0;34m[\u001b[0m\u001b[0;36m7\u001b[0m\u001b[0;34m]\u001b[0m\u001b[0;34m)\u001b[0m\u001b[0;34m,\u001b[0m\u001b[0mnp\u001b[0m\u001b[0;34m.\u001b[0m\u001b[0mmean\u001b[0m\u001b[0;34m(\u001b[0m\u001b[0mdata\u001b[0m\u001b[0;34m[\u001b[0m\u001b[0;36m8\u001b[0m\u001b[0;34m]\u001b[0m\u001b[0;34m)\u001b[0m\u001b[0;34m,\u001b[0m\u001b[0mnp\u001b[0m\u001b[0;34m.\u001b[0m\u001b[0mmean\u001b[0m\u001b[0;34m(\u001b[0m\u001b[0mdata\u001b[0m\u001b[0;34m[\u001b[0m\u001b[0;36m9\u001b[0m\u001b[0;34m]\u001b[0m\u001b[0;34m)\u001b[0m\u001b[0;34m\u001b[0m\u001b[0m\n\u001b[0m\u001b[1;32m      3\u001b[0m \u001b[0mxw\u001b[0m\u001b[0;34m=\u001b[0m\u001b[0;34m[\u001b[0m\u001b[0;34m-\u001b[0m\u001b[0mw1\u001b[0m\u001b[0;34m/\u001b[0m\u001b[0;36m2\u001b[0m\u001b[0;34m,\u001b[0m\u001b[0;34m-\u001b[0m\u001b[0mw2\u001b[0m\u001b[0;34m/\u001b[0m\u001b[0;36m2\u001b[0m\u001b[0;34m,\u001b[0m\u001b[0;34m-\u001b[0m\u001b[0mw3\u001b[0m\u001b[0;34m/\u001b[0m\u001b[0;36m2\u001b[0m\u001b[0;34m,\u001b[0m\u001b[0;36m0\u001b[0m\u001b[0;34m,\u001b[0m\u001b[0mw3\u001b[0m\u001b[0;34m/\u001b[0m\u001b[0;36m2\u001b[0m\u001b[0;34m,\u001b[0m\u001b[0mw2\u001b[0m\u001b[0;34m/\u001b[0m\u001b[0;36m2\u001b[0m\u001b[0;34m,\u001b[0m\u001b[0mw1\u001b[0m\u001b[0;34m/\u001b[0m\u001b[0;36m2\u001b[0m\u001b[0;34m]\u001b[0m\u001b[0;34m\u001b[0m\u001b[0m\n\u001b[1;32m      4\u001b[0m \u001b[0mxv\u001b[0m\u001b[0;34m=\u001b[0m\u001b[0;34m[\u001b[0m\u001b[0;34m-\u001b[0m\u001b[0mv1\u001b[0m\u001b[0;34m/\u001b[0m\u001b[0;36m2\u001b[0m\u001b[0;34m,\u001b[0m\u001b[0;34m-\u001b[0m\u001b[0mv2\u001b[0m\u001b[0;34m/\u001b[0m\u001b[0;36m2\u001b[0m\u001b[0;34m,\u001b[0m\u001b[0;34m-\u001b[0m\u001b[0mv3\u001b[0m\u001b[0;34m/\u001b[0m\u001b[0;36m2\u001b[0m\u001b[0;34m,\u001b[0m\u001b[0;36m0\u001b[0m\u001b[0;34m,\u001b[0m\u001b[0mv3\u001b[0m\u001b[0;34m/\u001b[0m\u001b[0;36m2\u001b[0m\u001b[0;34m,\u001b[0m\u001b[0mv2\u001b[0m\u001b[0;34m/\u001b[0m\u001b[0;36m2\u001b[0m\u001b[0;34m,\u001b[0m\u001b[0mv1\u001b[0m\u001b[0;34m/\u001b[0m\u001b[0;36m2\u001b[0m\u001b[0;34m]\u001b[0m\u001b[0;34m\u001b[0m\u001b[0m\n\u001b[1;32m      5\u001b[0m \u001b[0my\u001b[0m \u001b[0;34m=\u001b[0m \u001b[0;34m[\u001b[0m\u001b[0;36m13.5\u001b[0m\u001b[0;34m,\u001b[0m\u001b[0;36m50\u001b[0m\u001b[0;34m,\u001b[0m\u001b[0;36m80\u001b[0m\u001b[0;34m,\u001b[0m\u001b[0;36m100\u001b[0m\u001b[0;34m,\u001b[0m\u001b[0;36m80\u001b[0m\u001b[0;34m,\u001b[0m\u001b[0;36m50\u001b[0m\u001b[0;34m,\u001b[0m\u001b[0;36m13.5\u001b[0m\u001b[0;34m]\u001b[0m\u001b[0;34m\u001b[0m\u001b[0m\n",
      "\u001b[0;32m/Users/juanvargas/anaconda2/lib/python2.7/site-packages/numpy/core/fromnumeric.pyc\u001b[0m in \u001b[0;36mmean\u001b[0;34m(a, axis, dtype, out, keepdims)\u001b[0m\n\u001b[1;32m   2940\u001b[0m \u001b[0;34m\u001b[0m\u001b[0m\n\u001b[1;32m   2941\u001b[0m     return _methods._mean(a, axis=axis, dtype=dtype,\n\u001b[0;32m-> 2942\u001b[0;31m                             out=out, **kwargs)\n\u001b[0m\u001b[1;32m   2943\u001b[0m \u001b[0;34m\u001b[0m\u001b[0m\n\u001b[1;32m   2944\u001b[0m \u001b[0;34m\u001b[0m\u001b[0m\n",
      "\u001b[0;32m/Users/juanvargas/anaconda2/lib/python2.7/site-packages/numpy/core/_methods.pyc\u001b[0m in \u001b[0;36m_mean\u001b[0;34m(a, axis, dtype, out, keepdims)\u001b[0m\n\u001b[1;32m     63\u001b[0m         \u001b[0mdtype\u001b[0m \u001b[0;34m=\u001b[0m \u001b[0mmu\u001b[0m\u001b[0;34m.\u001b[0m\u001b[0mdtype\u001b[0m\u001b[0;34m(\u001b[0m\u001b[0;34m'f8'\u001b[0m\u001b[0;34m)\u001b[0m\u001b[0;34m\u001b[0m\u001b[0m\n\u001b[1;32m     64\u001b[0m \u001b[0;34m\u001b[0m\u001b[0m\n\u001b[0;32m---> 65\u001b[0;31m     \u001b[0mret\u001b[0m \u001b[0;34m=\u001b[0m \u001b[0mumr_sum\u001b[0m\u001b[0;34m(\u001b[0m\u001b[0marr\u001b[0m\u001b[0;34m,\u001b[0m \u001b[0maxis\u001b[0m\u001b[0;34m,\u001b[0m \u001b[0mdtype\u001b[0m\u001b[0;34m,\u001b[0m \u001b[0mout\u001b[0m\u001b[0;34m,\u001b[0m \u001b[0mkeepdims\u001b[0m\u001b[0;34m)\u001b[0m\u001b[0;34m\u001b[0m\u001b[0m\n\u001b[0m\u001b[1;32m     66\u001b[0m     \u001b[0;32mif\u001b[0m \u001b[0misinstance\u001b[0m\u001b[0;34m(\u001b[0m\u001b[0mret\u001b[0m\u001b[0;34m,\u001b[0m \u001b[0mmu\u001b[0m\u001b[0;34m.\u001b[0m\u001b[0mndarray\u001b[0m\u001b[0;34m)\u001b[0m\u001b[0;34m:\u001b[0m\u001b[0;34m\u001b[0m\u001b[0m\n\u001b[1;32m     67\u001b[0m         ret = um.true_divide(\n",
      "\u001b[0;31mTypeError\u001b[0m: cannot perform reduce with flexible type"
     ]
    }
   ],
   "source": [
    "data=read('sup.close')\n",
    "w1,w2,w3,v1,v2,v3=np.mean(data[4]),np.mean(data[5]),np.mean(data[6]),np.mean(data[7]),np.mean(data[8]),np.mean(data[9])\n",
    "xw=[-w1/2,-w2/2,-w3/2,0,w3/2,w2/2,w1/2]\n",
    "xv=[-v1/2,-v2/2,-v3/2,0,v3/2,v2/2,v1/2]\n",
    "y = [13.5,50,80,100,80,50,13.5]\n",
    "\n",
    "n = len(xw)                          #the number of data\n",
    "meanw = sum(xw*y)/n                   #note this correction\n",
    "meanv = sum(xv*y)/n\n",
    "sigmaw = sum(y*(xw-meanw)**2)/n        #note this correction\n",
    "sigmav = sum(y*(xv-meanv)**2)/n\n",
    "\n",
    "def gaus(x,a,x0,sigma):\n",
    "    return a*exp(-(x-x0)**2/(2*sigma**2))\n",
    "\n",
    "poptw,pcovw = curve_fit(gaus,xw,y,p0=[1,meanw,sigmaw])\n",
    "poptv,pcovv = curve_fit(gaus,xv,y,p0=[1,meanv,sigmav])\n",
    "\n",
    "plt.plot(x,y,'b+:',label='data')\n",
    "plt.plot(xw,gaus(xw,*poptw),'ro:',label='fitw')\n",
    "plt.plot(xv,gaus(xv,*poptv),'ro:',label='fiv')\n",
    "plt.legend()\n",
    "plt.title('Fig. 3 - Fit for Time Constant')\n",
    "plt.xlabel('Time (s)')\n",
    "plt.ylabel('Voltage (V)')\n",
    "plt.show()"
   ]
  },
  {
   "cell_type": "code",
   "execution_count": 73,
   "metadata": {
    "collapsed": false
   },
   "outputs": [
    {
     "name": "stdout",
     "output_type": "stream",
     "text": [
      "[0.0, 1.0, 2.0, 3.0, 4.0, 5.0]\n",
      "0.0\n",
      "1.0\n",
      "2.0\n",
      "3.0\n",
      "4.0\n",
      "5.0\n",
      "[0.0, 10.0, 20.0, 30.0, 40.0, 50.0]\n",
      "[4112.0, 4112.0, 4113.0, 4113.0, 4114.0, 4115.0]\n",
      "4112.0\n",
      "4112.0\n",
      "4113.0\n",
      "4113.0\n",
      "4114.0\n",
      "4115.0\n",
      "[41120.0, 41120.0, 41130.0, 41130.0, 41140.0, 41150.0]\n",
      "[u'-505,3', u'-505,5', u'-505,6', u'-505,6', u'-505,6', u'-505,4']\n",
      "-505,3\n",
      "-505,5\n",
      "-505,6\n",
      "-505,6\n",
      "-505,6\n",
      "-505,4\n",
      "[-505.3, -505.5, -505.6, -505.6, -505.6, -505.4]\n",
      "[u'229,4', u'229,2', u'229,0', u'229,0', u'228,8', u'228,9']\n",
      "229,4\n",
      "229,2\n",
      "229,0\n",
      "229,0\n",
      "228,8\n",
      "228,9\n",
      "[229.4, 229.2, 229.0, 229.0, 228.8, 228.9]\n",
      "[u'888,0', u'887,6', u'886,7', u'885,6', u'885,7', u'887,0']\n",
      "888,0\n",
      "887,6\n",
      "886,7\n",
      "885,6\n",
      "885,7\n",
      "887,0\n",
      "[888.0, 887.6, 886.7, 885.6, 885.7, 887.0]\n",
      "[u'545,3', u'545,6', u'546,4', u'545,9', u'545,7', u'545,3']\n",
      "545,3\n",
      "545,6\n",
      "546,4\n",
      "545,9\n",
      "545,7\n",
      "545,3\n",
      "[545.3, 545.6, 546.4, 545.9, 545.7, 545.3]\n",
      "[u'314,0', u'314,5', u'315,3', u'313,8', u'314,4', u'314,5']\n",
      "314,0\n",
      "314,5\n",
      "315,3\n",
      "313,8\n",
      "314,4\n",
      "314,5\n",
      "[314.0, 314.5, 315.3, 313.8, 314.4, 314.5]\n",
      "[u'899,6', u'901,2', u'899,8', u'900,4', u'898,8', u'899,5']\n",
      "899,6\n",
      "901,2\n",
      "899,8\n",
      "900,4\n",
      "898,8\n",
      "899,5\n",
      "[899.6, 901.2, 899.8, 900.4, 898.8, 899.5]\n",
      "[u'550,5', u'550,5', u'549,6', u'549,5', u'548,7', u'549,2']\n",
      "550,5\n",
      "550,5\n",
      "549,6\n",
      "549,5\n",
      "548,7\n",
      "549,2\n",
      "[550.5, 550.5, 549.6, 549.5, 548.7, 549.2]\n",
      "[u'312,0', u'312,1', u'312,2', u'312,1', u'311,6', u'311,8']\n",
      "312,0\n",
      "312,1\n",
      "312,2\n",
      "312,1\n",
      "311,6\n",
      "311,8\n",
      "[312.0, 312.1, 312.2, 312.1, 311.6, 311.8]\n",
      "[[0.0, 1.0, 2.0, 3.0, 4.0, 5.0], [4112.0, 4112.0, 4113.0, 4113.0, 4114.0, 4115.0], [u'-505,3', u'-505,5', u'-505,6', u'-505,6', u'-505,6', u'-505,4'], [u'229,4', u'229,2', u'229,0', u'229,0', u'228,8', u'228,9'], [u'888,0', u'887,6', u'886,7', u'885,6', u'885,7', u'887,0'], [u'545,3', u'545,6', u'546,4', u'545,9', u'545,7', u'545,3'], [u'314,0', u'314,5', u'315,3', u'313,8', u'314,4', u'314,5'], [u'899,6', u'901,2', u'899,8', u'900,4', u'898,8', u'899,5'], [u'550,5', u'550,5', u'549,6', u'549,5', u'548,7', u'549,2'], [u'312,0', u'312,1', u'312,2', u'312,1', u'311,6', u'311,8']]\n"
     ]
    }
   ],
   "source": [
    "print listas('sup.close')\n"
   ]
  },
  {
   "cell_type": "code",
   "execution_count": 24,
   "metadata": {
    "collapsed": false
   },
   "outputs": [
    {
     "data": {
      "text/plain": [
       "314.2"
      ]
     },
     "execution_count": 24,
     "metadata": {},
     "output_type": "execute_result"
    }
   ],
   "source": [
    "float('314,2'.replace(\".\",\"\").replace(\",\",\".\"))"
   ]
  },
  {
   "cell_type": "code",
   "execution_count": null,
   "metadata": {
    "collapsed": true
   },
   "outputs": [],
   "source": []
  }
 ],
 "metadata": {
  "kernelspec": {
   "display_name": "Python 2",
   "language": "python",
   "name": "python2"
  },
  "language_info": {
   "codemirror_mode": {
    "name": "ipython",
    "version": 2
   },
   "file_extension": ".py",
   "mimetype": "text/x-python",
   "name": "python",
   "nbconvert_exporter": "python",
   "pygments_lexer": "ipython2",
   "version": "2.7.13"
  }
 },
 "nbformat": 4,
 "nbformat_minor": 2
}
