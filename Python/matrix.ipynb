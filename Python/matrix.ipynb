{
 "cells": [
  {
   "cell_type": "code",
   "execution_count": 58,
   "metadata": {
    "collapsed": true
   },
   "outputs": [],
   "source": [
    "import xlrd\n",
    "import pylab as pylab\n",
    "import numpy as np\n",
    "from matplotlib.mlab import griddata\n",
    "import matplotlib.pyplot as plt\n",
    "import matplotlib.cm as cm\n",
    "import scipy.interpolate\n",
    "%matplotlib inline "
   ]
  },
  {
   "cell_type": "code",
   "execution_count": 59,
   "metadata": {
    "collapsed": true
   },
   "outputs": [],
   "source": [
    "def getMatrix(archivo,paso):\n",
    "    workbook= xlrd.open_workbook(archivo)\n",
    "    #workbook= xlrd.open_workbook('Toma4_reducido.xlsx')\n",
    "    sheet_names=workbook.sheet_names()\n",
    "    print sheet_names\n",
    "    toma_sheet=workbook.sheet_by_name(sheet_names[0])\n",
    "    promedio_sheet=workbook.sheet_by_name(sheet_names[1])\n",
    "    suma_sheet=workbook.sheet_by_name(sheet_names[2])\n",
    "    x_promedio=promedio_sheet.col_values(0)\n",
    "    y_promedio=promedio_sheet.col_values(1)\n",
    "    canalB_promedio=promedio_sheet.col_values(7)\n",
    "    print x_promedio[0]\n",
    "    print y_promedio[0]\n",
    "    print canalB_promedio[0]\n",
    "    #CLeaning list\n",
    "    del x_promedio[0]\n",
    "    del y_promedio[0]\n",
    "    del canalB_promedio[0]\n",
    "    #arrays\n",
    "    x=np.asarray(x_promedio)\n",
    "    y=np.asarray(y_promedio)\n",
    "    z=np.asarray(canalB_promedio)\n",
    "    #fig, (ax,bx) = plt.subplots(1,2)\n",
    "    minv,maxv=-2,2\n",
    "    z_aux=z\n",
    "    rows=[]\n",
    "    ind2remove = [0,1,2, 3,4,5,6,7,8,9,10,11,12,13,14,15,16,17,18,19,20]\n",
    "    aux=0\n",
    "    rangofloat=(10/(paso*10))*4+1\n",
    "    rango=int(rangofloat)\n",
    "    print rango\n",
    "    ind2remove=np.linspace(0,rango-1,rango)\n",
    "    for i in range(rango):\n",
    "        #print z_aux\n",
    "        if aux==0:\n",
    "            row=z_aux[0:rango]\n",
    "            #print row\n",
    "            rows.append(row)\n",
    "            z_aux=np.delete(z_aux,ind2remove)\n",
    "            aux=1\n",
    "        else:\n",
    "            \n",
    "            row=z_aux[0:rango]\n",
    "            rowp=row[::-1]\n",
    "            #print rowp\n",
    "            rows.append(rowp)\n",
    "            z_aux=np.delete(z_aux,ind2remove)\n",
    "            aux=0\n",
    "        \n",
    "    \n",
    "    print len(rows)\n",
    "  \n",
    "    matrix=np.matrix(rows)\n",
    "    return matrix , rango"
   ]
  },
  {
   "cell_type": "code",
   "execution_count": 60,
   "metadata": {
    "collapsed": true
   },
   "outputs": [],
   "source": [
    "def getMatrixGhost(archivo,paso):\n",
    "    workbook= xlrd.open_workbook(archivo)\n",
    "    #workbook= xlrd.open_workbook('Toma4_reducido.xlsx')\n",
    "    sheet_names=workbook.sheet_names()\n",
    "    print sheet_names\n",
    "    toma_sheet=workbook.sheet_by_name(sheet_names[0])\n",
    "    promedio_sheet=workbook.sheet_by_name(sheet_names[1])\n",
    "    suma_sheet=workbook.sheet_by_name(sheet_names[2])\n",
    "    x_promedio=promedio_sheet.col_values(0)\n",
    "    y_promedio=promedio_sheet.col_values(1)\n",
    "    canalA_promedio=promedio_sheet.col_values(6)\n",
    "    print x_promedio[0]\n",
    "    print y_promedio[0]\n",
    "    print canalA_promedio[0]\n",
    "    #CLeaning list\n",
    "    del x_promedio[0]\n",
    "    del y_promedio[0]\n",
    "    del canalA_promedio[0]\n",
    "    #arrays\n",
    "    x=np.asarray(x_promedio)\n",
    "    y=np.asarray(y_promedio)\n",
    "    z=np.asarray(canalA_promedio)\n",
    "    #fig, (ax,bx) = plt.subplots(1,2)\n",
    "    minv,maxv=-2,2\n",
    "    z_aux=z\n",
    "    rows=[]\n",
    "    #ind2remove = [0,1,2, 3,4,5,6,7,8,9,10,11,12,13,14,15,16,17,18,19,20]\n",
    "    aux=0\n",
    "    rangofloat=(10/(paso*10))*4+1\n",
    "    rango=int(rangofloat)\n",
    "    ind2remove=np.linspace(0,rango-1,rango)\n",
    "    print rango\n",
    "    for i in range(rango):\n",
    "        #print z_aux\n",
    "        if aux==0:\n",
    "            row=z_aux[0:rango]\n",
    "            #print row\n",
    "            rows.append(row)\n",
    "            z_aux=np.delete(z_aux,ind2remove)\n",
    "            aux=1\n",
    "        else:\n",
    "            \n",
    "            row=z_aux[0:rango]\n",
    "            rowp=row[::-1]\n",
    "            #print rowp\n",
    "            rows.append(rowp)\n",
    "            z_aux=np.delete(z_aux,ind2remove)\n",
    "            aux=0\n",
    "        \n",
    "    \n",
    "    print len(rows)\n",
    "  \n",
    "    matrix=np.matrix(rows)\n",
    "    return matrix, rango"
   ]
  },
  {
   "cell_type": "code",
   "execution_count": 128,
   "metadata": {
    "collapsed": false
   },
   "outputs": [],
   "source": [
    "def graficar1(matrix,rango,titulo):\n",
    "    \n",
    "    plt.matshow(matrix)\n",
    "    plt.colorbar()\n",
    "    ran=(rango-1)/4\n",
    "    print ran\n",
    "    x=np.linspace(0,rango-1,ran-1)\n",
    "    labels=np.linspace(-2,2,ran-1)\n",
    "    print x\n",
    "    print plt.xticks()\n",
    "    plt.xticks(x,labels)\n",
    "    plt.yticks(x,labels)\n",
    "    print plt.xticks()\n",
    "    plt.title(titulo)\n",
    "    plt.xlabel('y')\n",
    "#plt.xlim(-2,2)\n",
    "    plt.ylabel('x')\n",
    "#plt.ylim(-2,2)\n",
    "\n",
    "\n",
    "#plt.xticks(labels)\n",
    "    plt.show()\n",
    "def graficar2(matrix,rango,titulo):\n",
    "    \n",
    "    plt.matshow(matrix)\n",
    "    plt.colorbar()\n",
    "    ran=(rango-1)/4\n",
    "    #print ran\n",
    "    x=np.linspace(0,rango-1,ran)\n",
    "    labels=np.linspace(-2,2,ran)\n",
    "    #print x\n",
    "    #print plt.xticks()\n",
    "    plt.xticks(x,labels)\n",
    "    plt.yticks(x,labels)\n",
    "    print plt.xticks()\n",
    "    plt.title(titulo)\n",
    "    plt.xlabel('y')\n",
    "#plt.xlim(-2,2)\n",
    "    plt.ylabel('x')\n",
    "#plt.ylim(-2,2)\n",
    "\n",
    "\n",
    "#plt.xticks(labels)\n",
    "    plt.show()\n",
    "\n",
    "def graficar(m,ran,nom):\n",
    "    if ran==41:\n",
    "        graficar1(m,ran,nom)\n",
    "    else:\n",
    "        graficar2(m,ran,nom)"
   ]
  },
  {
   "cell_type": "code",
   "execution_count": 129,
   "metadata": {
    "collapsed": false
   },
   "outputs": [
    {
     "name": "stdout",
     "output_type": "stream",
     "text": [
      "[u'Ghost_DetAV_DetCH_reducido (roo', u'promedio', u'suma']\n",
      "Eje x\n",
      "Eje y\n",
      "Canal B\n",
      "41\n",
      "41\n",
      "10\n",
      "[  0.   5.  10.  15.  20.  25.  30.  35.  40.]\n",
      "(array([ -5.,   0.,   5.,  10.,  15.,  20.,  25.,  30.,  35.,  40.,  45.]), <a list of 11 Text xticklabel objects>)\n",
      "(array([  0.,   5.,  10.,  15.,  20.,  25.,  30.,  35.,  40.]), <a list of 9 Text xticklabel objects>)\n"
     ]
    },
    {
     "data": {
      "image/png": "[encoded data removed]",
      "text/plain": [
       "<matplotlib.figure.Figure at 0x116b3f3d0>"
      ]
     },
     "metadata": {},
     "output_type": "display_data"
    }
   ],
   "source": [
    "matrix,rango=getMatrix('Ghost_DetAV_DetCH_reducido.xlsx',0.1)\n",
    "graficar(matrix,rango,'Ghost CanalB')\n"
   ]
  },
  {
   "cell_type": "code",
   "execution_count": 130,
   "metadata": {
    "collapsed": false
   },
   "outputs": [
    {
     "name": "stdout",
     "output_type": "stream",
     "text": [
      "[u'Toma4_reducido (root)', u'promedio', u'suma']\n",
      "Eje x\n",
      "Eje y\n",
      "Canal B\n",
      "21\n",
      "21\n",
      "(array([  0.,   5.,  10.,  15.,  20.]), <a list of 5 Text xticklabel objects>)\n"
     ]
    },
    {
     "data": {
      "image/png": "[encoded data removed]",
      "text/plain": [
       "<matplotlib.figure.Figure at 0x1142b6410>"
      ]
     },
     "metadata": {},
     "output_type": "display_data"
    }
   ],
   "source": [
    "m,rango = getMatrix('Toma4_reducido.xlsx',0.2)\n",
    "graficar(m,rango,'Toma 4')"
   ]
  },
  {
   "cell_type": "code",
   "execution_count": 131,
   "metadata": {
    "collapsed": false
   },
   "outputs": [
    {
     "name": "stdout",
     "output_type": "stream",
     "text": [
      "[u'Ghost_DetAV_DetCH_reducido (roo', u'promedio', u'suma']\n",
      "Eje x\n",
      "Eje y\n",
      "Canal B\n",
      "41\n",
      "41\n",
      "10\n",
      "[  0.   5.  10.  15.  20.  25.  30.  35.  40.]\n",
      "(array([ -5.,   0.,   5.,  10.,  15.,  20.,  25.,  30.,  35.,  40.,  45.]), <a list of 11 Text xticklabel objects>)\n",
      "(array([  0.,   5.,  10.,  15.,  20.,  25.,  30.,  35.,  40.]), <a list of 9 Text xticklabel objects>)\n"
     ]
    },
    {
     "data": {
      "image/png": "[encoded data removed]",
      "text/plain": [
       "<matplotlib.figure.Figure at 0x116cb47d0>"
      ]
     },
     "metadata": {},
     "output_type": "display_data"
    }
   ],
   "source": [
    "matrix,rango=getMatrix('Ghost_DetAV_DetCH_reducido.xlsx',0.1)\n",
    "graficar(matrix,rango,'Ghost')"
   ]
  },
  {
   "cell_type": "code",
   "execution_count": 132,
   "metadata": {
    "collapsed": false
   },
   "outputs": [
    {
     "name": "stdout",
     "output_type": "stream",
     "text": [
      "[u'Ghost_DetAV_DetCH_reducido (roo', u'promedio', u'suma']\n",
      "Eje x\n",
      "Eje y\n",
      "Canal A\n",
      "41\n",
      "41\n",
      "10\n",
      "[  0.   5.  10.  15.  20.  25.  30.  35.  40.]\n",
      "(array([ -5.,   0.,   5.,  10.,  15.,  20.,  25.,  30.,  35.,  40.,  45.]), <a list of 11 Text xticklabel objects>)\n",
      "(array([  0.,   5.,  10.,  15.,  20.,  25.,  30.,  35.,  40.]), <a list of 9 Text xticklabel objects>)\n"
     ]
    },
    {
     "data": {
      "image/png": "[encoded data removed]",
      "text/plain": [
       "<matplotlib.figure.Figure at 0x116c24bd0>"
      ]
     },
     "metadata": {},
     "output_type": "display_data"
    }
   ],
   "source": [
    "matrix,rango=getMatrixGhost('Ghost_DetAV_DetCH_reducido.xlsx',0.1)\n",
    "graficar(matrix,rango,'Ghost Canal A')"
   ]
  },
  {
   "cell_type": "code",
   "execution_count": 2,
   "metadata": {
    "collapsed": false
   },
   "outputs": [
    {
     "name": "stdout",
     "output_type": "stream",
     "text": [
      "[u'Toma4_reducido (root)', u'promedio', u'suma']\n",
      "Eje x\n",
      "Eje y\n",
      "Canal B\n"
     ]
    }
   ],
   "source": [
    "workbook= xlrd.open_workbook('Toma4_reducido.xlsx')\n",
    "sheet_names=workbook.sheet_names()\n",
    "print sheet_names\n",
    "toma_sheet=workbook.sheet_by_name(sheet_names[0])\n",
    "promedio_sheet=workbook.sheet_by_name(sheet_names[1])\n",
    "suma_sheet=workbook.sheet_by_name(sheet_names[2])\n",
    "x_promedio=promedio_sheet.col_values(0)\n",
    "y_promedio=promedio_sheet.col_values(1)\n",
    "canalB_promedio=promedio_sheet.col_values(7)\n",
    "print x_promedio[0]\n",
    "print y_promedio[0]\n",
    "print canalB_promedio[0]\n",
    "#CLeaning list\n",
    "del x_promedio[0]\n",
    "del y_promedio[0]\n",
    "del canalB_promedio[0]\n",
    "#arrays\n",
    "x=np.asarray(x_promedio)\n",
    "y=np.asarray(y_promedio)\n",
    "z=np.asarray(canalB_promedio)"
   ]
  },
  {
   "cell_type": "code",
   "execution_count": 16,
   "metadata": {
    "collapsed": false
   },
   "outputs": [
    {
     "name": "stdout",
     "output_type": "stream",
     "text": [
      "21\n",
      "(array([ 0,  5, 10, 15, 20]), <a list of 5 Text xticklabel objects>)\n",
      "(array([ 0,  5, 10, 15, 20]), <a list of 5 Text yticklabel objects>)\n"
     ]
    },
    {
     "data": {
      "image/png": "[encoded data removed]",
      "text/plain": [
       "<matplotlib.figure.Figure at 0x111366910>"
      ]
     },
     "metadata": {},
     "output_type": "display_data"
    }
   ],
   "source": [
    "#fig, (ax,bx) = plt.subplots(1,2)\n",
    "minv,maxv=-2,2\n",
    "z_aux=z\n",
    "rows=[]\n",
    "ind2remove = [0,1,2, 3,4,5,6,7,8,9,10,11,12,13,14,15,16,17,18,19,20]\n",
    "aux=0\n",
    "for i in range(21):\n",
    "    #print z_aux\n",
    "    if aux==0:\n",
    "        row=z_aux[0:21]\n",
    "        #print row\n",
    "        rows.append(row)\n",
    "        z_aux=np.delete(z_aux,ind2remove)\n",
    "        aux=1\n",
    "    else:\n",
    "        \n",
    "        row=z_aux[0:21]\n",
    "        rowp=row[::-1]\n",
    "        #print rowp\n",
    "        rows.append(rowp)\n",
    "        z_aux=np.delete(z_aux,ind2remove)\n",
    "        aux=0\n",
    "        \n",
    "    \n",
    "print len(rows)\n",
    "  \n",
    "matrix=np.matrix(rows)\n",
    "#bx.imshow(matrix, interpolation='nearest')\n",
    "plt.matshow(matrix)\n",
    "plt.colorbar()\n",
    "x=[0,5,10,15,20]\n",
    "labels=['-2','-1','0','1','2']\n",
    "plt.xticks(x,labels)\n",
    "plt.yticks(x,labels)\n",
    "plt.title('Canal B')\n",
    "plt.xlabel('y')\n",
    "#plt.xlim(-2,2)\n",
    "plt.ylabel('x')\n",
    "#plt.ylim(-2,2)\n",
    "\n",
    "print plt.xticks()\n",
    "print plt.yticks()\n",
    "#plt.xticks(labels)\n",
    "plt.show()\n",
    "\n",
    "\n"
   ]
  },
  {
   "cell_type": "code",
   "execution_count": 43,
   "metadata": {
    "collapsed": false
   },
   "outputs": [
    {
     "name": "stdout",
     "output_type": "stream",
     "text": [
      "[  0.   1.   2.   3.   4.   5.   6.   7.   8.   9.  10.  11.  12.  13.  14.\n",
      "  15.  16.  17.  18.  19.  20.]\n"
     ]
    }
   ],
   "source": [
    "print np.linspace(0,20,21)"
   ]
  },
  {
   "cell_type": "code",
   "execution_count": null,
   "metadata": {
    "collapsed": true
   },
   "outputs": [],
   "source": []
  }
 ],
 "metadata": {
  "kernelspec": {
   "display_name": "Python 2",
   "language": "python",
   "name": "python2"
  },
  "language_info": {
   "codemirror_mode": {
    "name": "ipython",
    "version": 2
   },
   "file_extension": ".py",
   "mimetype": "text/x-python",
   "name": "python",
   "nbconvert_exporter": "python",
   "pygments_lexer": "ipython2",
   "version": "2.7.13"
  }
 },
 "nbformat": 4,
 "nbformat_minor": 2
}
