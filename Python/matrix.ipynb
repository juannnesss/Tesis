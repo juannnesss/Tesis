{
 "cells": [
  {
   "cell_type": "code",
   "execution_count": 1,
   "metadata": {
    "collapsed": true
   },
   "outputs": [],
   "source": [
    "import xlrd\n",
    "import pylab as pylab\n",
    "import numpy as np\n",
    "from matplotlib.mlab import griddata\n",
    "import matplotlib.pyplot as plt\n",
    "import matplotlib.cm as cm\n",
    "import scipy.interpolate\n",
    "%matplotlib inline "
   ]
  },
  {
   "cell_type": "code",
   "execution_count": 2,
   "metadata": {
    "collapsed": true
   },
   "outputs": [],
   "source": [
    "def getMatrixCanal(archivo,paso,canal):\n",
    "    workbook= xlrd.open_workbook(archivo)\n",
    "    sheet_names=workbook.sheet_names()\n",
    "    #print sheet_names\n",
    "    toma_sheet=workbook.sheet_by_name(sheet_names[0])\n",
    "    promedio_sheet=workbook.sheet_by_name(sheet_names[1])\n",
    "    suma_sheet=workbook.sheet_by_name(sheet_names[2])\n",
    "    x_promedio=promedio_sheet.col_values(0)\n",
    "    y_promedio=promedio_sheet.col_values(1)\n",
    "    #canal= 6 a, 7 b, 8 ab\n",
    "    canalB_promedio=promedio_sheet.col_values(canal)\n",
    "    #CLeaning list\n",
    "    del x_promedio[0]\n",
    "    del y_promedio[0]\n",
    "    del canalB_promedio[0]\n",
    "    #arrays\n",
    "    x=np.asarray(x_promedio)\n",
    "    y=np.asarray(y_promedio)\n",
    "    z=np.asarray(canalB_promedio)\n",
    "    z_aux=z\n",
    "    rows=[]\n",
    "    aux=0\n",
    "    rangofloat=(10/(paso*10))*4+1\n",
    "    rango=int(rangofloat)\n",
    "    print rango\n",
    "    ind2remove=np.linspace(0,rango-1,rango)\n",
    "    for i in range(rango):\n",
    "        if aux==0:\n",
    "            row=z_aux[0:rango]\n",
    "            rows.append(row)\n",
    "            z_aux=np.delete(z_aux,ind2remove)\n",
    "            aux=1\n",
    "        else:\n",
    "            row=z_aux[0:rango]\n",
    "            rowp=row[::-1]\n",
    "            rows.append(rowp)\n",
    "            z_aux=np.delete(z_aux,ind2remove)\n",
    "            aux=0  \n",
    "    matrix=np.matrix(rows)\n",
    "    return matrix , rango"
   ]
  },
  {
   "cell_type": "code",
   "execution_count": 3,
   "metadata": {
    "collapsed": false
   },
   "outputs": [],
   "source": [
    "def graficar1(matrix,rango,titulo): \n",
    "    plt.matshow(matrix)\n",
    "    plt.colorbar()\n",
    "    ran=(rango-1)/4\n",
    "    x=np.linspace(0,rango-1,ran-1)\n",
    "    labels=np.linspace(-2,2,ran-1)\n",
    "    plt.xticks(x,labels)\n",
    "    plt.yticks(x,labels)\n",
    "    plt.title(titulo)\n",
    "    plt.xlabel('y')\n",
    "    plt.ylabel('x')\n",
    "    plt.show()\n",
    "def graficar2(matrix,rango,titulo):  \n",
    "    plt.matshow(matrix)\n",
    "    plt.colorbar()\n",
    "    ran=(rango-1)/4\n",
    "    x=np.linspace(0,rango-1,ran)\n",
    "    labels=np.linspace(-2,2,ran)\n",
    "    plt.xticks(x,labels)\n",
    "    plt.yticks(x,labels)\n",
    "    plt.title(titulo)\n",
    "    plt.xlabel('y')\n",
    "    plt.ylabel('x')\n",
    "    plt.show()\n",
    "\n",
    "def graficar(m,ran,nom):\n",
    "    if ran==41:\n",
    "        graficar1(m,ran,nom)\n",
    "    else:\n",
    "        graficar2(m,ran,nom)"
   ]
  },
  {
   "cell_type": "code",
   "execution_count": 4,
   "metadata": {
    "collapsed": false
   },
   "outputs": [
    {
     "name": "stdout",
     "output_type": "stream",
     "text": [
      "21\n"
     ]
    },
    {
     "data": {
      "image/png": "[encoded data removed]",
      "text/plain": [
       "<matplotlib.figure.Figure at 0x115626e10>"
      ]
     },
     "metadata": {},
     "output_type": "display_data"
    }
   ],
   "source": [
    "m,rango = getMatrixCanal('Toma5_reducido.xlsx',0.2,6)\n",
    "graficar(m,rango,'Toma 5 Canal A')"
   ]
  },
  {
   "cell_type": "code",
   "execution_count": null,
   "metadata": {
    "collapsed": false
   },
   "outputs": [
    {
     "name": "stdout",
     "output_type": "stream",
     "text": [
      "21\n"
     ]
    },
    {
     "data": {
      "image/png": "[encoded data removed]",
      "text/plain": [
       "<matplotlib.figure.Figure at 0x117e90d90>"
      ]
     },
     "metadata": {},
     "output_type": "display_data"
    }
   ],
   "source": [
    "m,rango = getMatrixCanal('Toma5_reducido.xlsx',0.2,7)\n",
    "graficar(m,rango,'Toma 5 Canal B')"
   ]
  },
  {
   "cell_type": "code",
   "execution_count": null,
   "metadata": {
    "collapsed": false
   },
   "outputs": [],
   "source": [
    "m,rango = getMatrixCanal('Toma5_reducido.xlsx',0.2,8)\n",
    "graficar(m,rango,'Toma 5 AB')"
   ]
  },
  {
   "cell_type": "code",
   "execution_count": null,
   "metadata": {
    "collapsed": false
   },
   "outputs": [],
   "source": [
    "matrix,rango=getMatrixCanal('Ghost_DetAV_DetCH_reducido.xlsx',0.1,6)\n",
    "graficar(matrix,rango,'Ghost Canal A')"
   ]
  },
  {
   "cell_type": "code",
   "execution_count": null,
   "metadata": {
    "collapsed": false
   },
   "outputs": [],
   "source": [
    "matrix, rango= getMatrixCanal('Ghost_DetAV_DetCH_reducido.xlsx',0.1,7)\n",
    "graficar(matrix,rango,'Ghost Canal B')"
   ]
  },
  {
   "cell_type": "code",
   "execution_count": null,
   "metadata": {
    "collapsed": false
   },
   "outputs": [],
   "source": [
    "matrix, rango= getMatrixCanal('Ghost_DetAV_DetCH_reducido.xlsx',0.1,8)\n",
    "graficar(matrix,rango,'Ghost Canal AB')"
   ]
  },
  {
   "cell_type": "code",
   "execution_count": null,
   "metadata": {
    "collapsed": false
   },
   "outputs": [],
   "source": [
    "matrix, rango= getMatrixCanal('Ghost_DetAV_DetCH_reducido.xlsx',0.1,6)\n",
    "graficar(matrix,rango,'Ghost Canal A')"
   ]
  },
  {
   "cell_type": "code",
   "execution_count": null,
   "metadata": {
    "collapsed": true
   },
   "outputs": [],
   "source": []
  },
  {
   "cell_type": "code",
   "execution_count": null,
   "metadata": {
    "collapsed": true
   },
   "outputs": [],
   "source": []
  }
 ],
 "metadata": {
  "kernelspec": {
   "display_name": "Python 2",
   "language": "python",
   "name": "python2"
  },
  "language_info": {
   "codemirror_mode": {
    "name": "ipython",
    "version": 2
   },
   "file_extension": ".py",
   "mimetype": "text/x-python",
   "name": "python",
   "nbconvert_exporter": "python",
   "pygments_lexer": "ipython2",
   "version": "2.7.13"
  }
 },
 "nbformat": 4,
 "nbformat_minor": 2
}
