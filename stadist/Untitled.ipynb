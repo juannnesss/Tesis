{
 "cells": [
  {
   "cell_type": "code",
   "execution_count": 127,
   "metadata": {
    "collapsed": false
   },
   "outputs": [],
   "source": [
    "import numpy as np\n",
    "import matplotlib.pyplot as plt\n",
    "import itertools\n",
    "%matplotlib inline"
   ]
  },
  {
   "cell_type": "code",
   "execution_count": 128,
   "metadata": {
    "collapsed": false
   },
   "outputs": [
    {
     "ename": "SyntaxError",
     "evalue": "invalid syntax (<ipython-input-128-3b73ae7909a9>, line 3)",
     "output_type": "error",
     "traceback": [
      "\u001b[0;36m  File \u001b[0;32m\"<ipython-input-128-3b73ae7909a9>\"\u001b[0;36m, line \u001b[0;32m3\u001b[0m\n\u001b[0;31m    i+\u001b[0m\n\u001b[0m      ^\u001b[0m\n\u001b[0;31mSyntaxError\u001b[0m\u001b[0;31m:\u001b[0m invalid syntax\n"
     ]
    }
   ],
   "source": [
    "for i in range(5):\n",
    "    if i==2:\n",
    "        i+\n",
    "    print(i)"
   ]
  },
  {
   "cell_type": "code",
   "execution_count": 131,
   "metadata": {
    "collapsed": false
   },
   "outputs": [
    {
     "name": "stdout",
     "output_type": "stream",
     "text": [
      "[0.0, 1.0, 2.0, 4.0, 5.0, 9.0, 10.0, 16.0, 17.0, 20.0, 25.0, 32.0, 81.0, 82.0, 85.0, 90.0, 97.0, 256.0, 257.0, 260.0, 265.0]\n",
      "[1.0, 16.0, 17.0]\n"
     ]
    },
    {
     "data": {
      "text/plain": [
       "80"
      ]
     },
     "execution_count": 131,
     "metadata": {},
     "output_type": "execute_result"
    }
   ],
   "source": [
    "p,q=np.linspace(0,4,5),np.linspace(0,4,5)\n",
    "P,Q=p**2,q**4\n",
    "\n",
    "energyLevels=list(itertools.product(P, Q))\n",
    "#print energyLevels[1][0]\n",
    "En=[]\n",
    "for i in energyLevels:\n",
    "    e=i[0]+i[1]\n",
    "    En.append(e)\n",
    "En_Sorted=sorted(En)\n",
    "#print En_Sorted\n",
    "\n",
    "EnergyLevels=[]\n",
    "Degenerates=[]\n",
    "counting =True\n",
    "i=0\n",
    "while (i-len(En_Sorted)<-1):\n",
    "    #print i\n",
    "    if En_Sorted[i]==En_Sorted[i+1]:\n",
    "        Degenerates.append(En_Sorted[i])\n",
    "        EnergyLevels.append(En_Sorted[i])\n",
    "        i=i+2\n",
    "    else:\n",
    "        EnergyLevels.append(En_Sorted[i])\n",
    "        i=i+1\n",
    "\n",
    "    \n",
    "\n",
    "#print En_Sorted\n",
    "print EnergyLevels\n",
    "print Degenerates\n",
    "def isDegene(E):\n",
    "    for i in Degenerates:\n",
    "        if i-E==0:\n",
    "            return True\n",
    "\n",
    "def solve(N,E):\n",
    "    \n",
    "    if N==1:\n",
    "        x=isDegene(E)\n",
    "        if x==True:\n",
    "            return 2\n",
    "        else:\n",
    "            return 1\n",
    "    else:\n",
    "        #print N\n",
    "        #print E\n",
    "        index=EnergyLevels.index(E)\n",
    "        #print index\n",
    "        rta=0\n",
    "        for i in range(1,index+1):\n",
    "            r=solve(N-1,EnergyLevels[index-i-1])\n",
    "            g=solve(1,EnergyLevels[i])\n",
    "            rta=rta+r*g\n",
    "        return rta\n",
    "     \n",
    "solve(3,20)"
   ]
  },
  {
   "cell_type": "code",
   "execution_count": 132,
   "metadata": {
    "collapsed": false
   },
   "outputs": [
    {
     "name": "stdout",
     "output_type": "stream",
     "text": [
      "341\n",
      "3079\n",
      "26767\n",
      "257065\n",
      "2461073\n",
      "23061391\n",
      "216413042\n",
      "2041140584\n"
     ]
    }
   ],
   "source": [
    "#print EnergyLevels\n",
    "s_3=[]\n",
    "for i in EnergyLevels:\n",
    "    x=solve(3,i)\n",
    "    s_3.append(x)\n",
    "print s_3[-1]\n",
    "s_4=[]\n",
    "for i in EnergyLevels:\n",
    "    x=solve(4,i)\n",
    "    s_4.append(x)\n",
    "print s_4[-1]\n",
    "s_5=[]\n",
    "for i in EnergyLevels:\n",
    "    x=solve(5,i)\n",
    "    s_5.append(x)\n",
    "print s_5[-1]\n",
    "s_6=[]\n",
    "for i in EnergyLevels:\n",
    "    x=solve(6,i)\n",
    "    s_6.append(x)\n",
    "print s_6[-1]\n",
    "s_7=[]\n",
    "for i in EnergyLevels:\n",
    "    x=solve(7,i)\n",
    "    s_7.append(x)\n",
    "print s_7[-1]\n",
    "s_8=[]\n",
    "for i in EnergyLevels:\n",
    "    x=solve(8,i)\n",
    "    s_8.append(x)\n",
    "print s_8[-1]\n",
    "s_9=[]\n",
    "for i in EnergyLevels:\n",
    "    x=solve(9,i)\n",
    "    s_9.append(x)\n",
    "print s_9[-1]\n",
    "s_10=[]\n",
    "for i in EnergyLevels:\n",
    "    x=solve(10,i)\n",
    "    s_10.append(x)\n",
    "print s_10[-1]"
   ]
  },
  {
   "cell_type": "code",
   "execution_count": 125,
   "metadata": {
    "collapsed": false
   },
   "outputs": [
    {
     "name": "stderr",
     "output_type": "stream",
     "text": [
      "/Users/juanvargas/anaconda2/lib/python2.7/site-packages/ipykernel/__main__.py:2: RuntimeWarning: divide by zero encountered in log\n",
      "  from ipykernel import kernelapp as app\n",
      "/Users/juanvargas/anaconda2/lib/python2.7/site-packages/ipykernel/__main__.py:3: RuntimeWarning: divide by zero encountered in log\n",
      "  app.launch_new_instance()\n",
      "/Users/juanvargas/anaconda2/lib/python2.7/site-packages/ipykernel/__main__.py:4: RuntimeWarning: divide by zero encountered in log\n",
      "/Users/juanvargas/anaconda2/lib/python2.7/site-packages/ipykernel/__main__.py:5: RuntimeWarning: divide by zero encountered in log\n",
      "/Users/juanvargas/anaconda2/lib/python2.7/site-packages/ipykernel/__main__.py:6: RuntimeWarning: divide by zero encountered in log\n",
      "/Users/juanvargas/anaconda2/lib/python2.7/site-packages/ipykernel/__main__.py:7: RuntimeWarning: divide by zero encountered in log\n",
      "/Users/juanvargas/anaconda2/lib/python2.7/site-packages/ipykernel/__main__.py:8: RuntimeWarning: divide by zero encountered in log\n",
      "/Users/juanvargas/anaconda2/lib/python2.7/site-packages/ipykernel/__main__.py:9: RuntimeWarning: divide by zero encountered in log\n"
     ]
    },
    {
     "data": {
      "image/png": "[encoded data removed]",
      "text/plain": [
       "<matplotlib.figure.Figure at 0x113591590>"
      ]
     },
     "metadata": {},
     "output_type": "display_data"
    }
   ],
   "source": [
    "fig, ax = plt.subplots()\n",
    "ax.scatter([x / 3 for x in EnergyLevels],[x/3 for x in np.log(s_3)])\n",
    "ax.scatter([x / 4 for x in EnergyLevels],[x/4 for x in np.log(s_4)])\n",
    "ax.scatter([x / 5 for x in EnergyLevels],[x/5 for x in np.log(s_5)])\n",
    "ax.scatter([x / 6 for x in EnergyLevels],[x/6 for x in np.log(s_6)])\n",
    "ax.scatter([x / 7 for x in EnergyLevels],[x/7 for x in np.log(s_7)])\n",
    "ax.scatter([x / 8 for x in EnergyLevels],[x/8 for x in np.log(s_8)])\n",
    "ax.scatter([x / 9 for x in EnergyLevels],[x/9 for x in np.log(s_9)])\n",
    "ax.scatter([x / 10 for x in EnergyLevels],[x/10 for x in np.log(s_10)])\n",
    "ax.set_xlim(0,10)\n",
    "#ax.scatter([x / 3 for x in EnergyLevels],[x/3 for x in np.log(s_3)])\n",
    "fig.show()"
   ]
  },
  {
   "cell_type": "code",
   "execution_count": null,
   "metadata": {
    "collapsed": true
   },
   "outputs": [],
   "source": []
  }
 ],
 "metadata": {
  "kernelspec": {
   "display_name": "Python 2",
   "language": "python",
   "name": "python2"
  },
  "language_info": {
   "codemirror_mode": {
    "name": "ipython",
    "version": 2
   },
   "file_extension": ".py",
   "mimetype": "text/x-python",
   "name": "python",
   "nbconvert_exporter": "python",
   "pygments_lexer": "ipython2",
   "version": "2.7.13"
  }
 },
 "nbformat": 4,
 "nbformat_minor": 2
}
